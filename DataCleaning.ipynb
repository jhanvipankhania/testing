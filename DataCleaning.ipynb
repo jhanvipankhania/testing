{
  "nbformat": 4,
  "nbformat_minor": 0,
  "metadata": {
    "colab": {
      "name": "DataCleaning.ipynb",
      "provenance": [],
      "collapsed_sections": [],
      "mount_file_id": "1U94XkrffCZqQgEL1i009fQ-VvggTLRje",
      "authorship_tag": "ABX9TyMxX/uWd2zT3ql6kjKRUVy9",
      "include_colab_link": true
    },
    "kernelspec": {
      "name": "python3",
      "display_name": "Python 3"
    }
  },
  "cells": [
    {
      "cell_type": "markdown",
      "metadata": {
        "id": "view-in-github",
        "colab_type": "text"
      },
      "source": [
        "<a href=\"https://colab.research.google.com/github/jhanvipankhania/testing/blob/master/DataCleaning.ipynb\" target=\"_parent\"><img src=\"https://colab.research.google.com/assets/colab-badge.svg\" alt=\"Open In Colab\"/></a>"
      ]
    },
    {
      "cell_type": "code",
      "metadata": {
        "id": "eMkXyrxhxDWF"
      },
      "source": [
        "import numpy as np\n",
        "import matplotlib.pyplot as plt\n",
        "import pandas as pd"
      ],
      "execution_count": 2,
      "outputs": []
    },
    {
      "cell_type": "code",
      "metadata": {
        "id": "AguMzy5dy9JI"
      },
      "source": [
        "df = pd.read_csv('/content/drive/My Drive/Vancouver_Restaurants_updated.csv')"
      ],
      "execution_count": 3,
      "outputs": []
    },
    {
      "cell_type": "code",
      "metadata": {
        "id": "N76j-fgMENCq",
        "outputId": "ce827c64-2153-4ec7-d072-386a8b1bfc56",
        "colab": {
          "base_uri": "https://localhost:8080/",
          "height": 717
        }
      },
      "source": [
        "df.head(5)"
      ],
      "execution_count": 4,
      "outputs": [
        {
          "output_type": "execute_result",
          "data": {
            "text/html": [
              "<div>\n",
              "<style scoped>\n",
              "    .dataframe tbody tr th:only-of-type {\n",
              "        vertical-align: middle;\n",
              "    }\n",
              "\n",
              "    .dataframe tbody tr th {\n",
              "        vertical-align: top;\n",
              "    }\n",
              "\n",
              "    .dataframe thead th {\n",
              "        text-align: right;\n",
              "    }\n",
              "</style>\n",
              "<table border=\"1\" class=\"dataframe\">\n",
              "  <thead>\n",
              "    <tr style=\"text-align: right;\">\n",
              "      <th></th>\n",
              "      <th>City_Name</th>\n",
              "      <th>Establishment_Type</th>\n",
              "      <th>Name</th>\n",
              "      <th>Rating</th>\n",
              "      <th>No_of_Reviews</th>\n",
              "      <th>Other_Ratings</th>\n",
              "      <th>Timings</th>\n",
              "      <th>Latitude</th>\n",
              "      <th>Longitude</th>\n",
              "      <th>Tags</th>\n",
              "      <th>Description</th>\n",
              "      <th>Price Range</th>\n",
              "      <th>Special Diets</th>\n",
              "      <th>Meals</th>\n",
              "      <th>Cuisines</th>\n",
              "      <th>Features</th>\n",
              "      <th>Website</th>\n",
              "      <th>Rank</th>\n",
              "      <th>Range_n_Cuisine</th>\n",
              "      <th>Address</th>\n",
              "      <th>Contact_No</th>\n",
              "    </tr>\n",
              "  </thead>\n",
              "  <tbody>\n",
              "    <tr>\n",
              "      <th>0</th>\n",
              "      <td>Vancouver</td>\n",
              "      <td>Restaurant</td>\n",
              "      <td>Marketplace on 3rd</td>\n",
              "      <td>4.5</td>\n",
              "      <td>767</td>\n",
              "      <td>{'Food': 4.5, 'Service': 4.5, 'Value': 4.0, 'A...</td>\n",
              "      <td>NaN</td>\n",
              "      <td>49.285620</td>\n",
              "      <td>-123.123780</td>\n",
              "      <td>['All reviews ', 'brunch ', 'steelhead ', 'tru...</td>\n",
              "      <td>Previously Market by Jean-Georges. We are exci...</td>\n",
              "      <td>US$ 20 - US$ 81</td>\n",
              "      <td>Vegetarian Friendly, Vegan Options, Gluten Fre...</td>\n",
              "      <td>Breakfast, Lunch, Dinner, Brunch, After-hours</td>\n",
              "      <td>Canadian, International</td>\n",
              "      <td>Reservations, Outdoor Seating, Private Dining,...</td>\n",
              "      <td>http://www.facebook.com/Marketplaceon3rd/</td>\n",
              "      <td>1.0</td>\n",
              "      <td>['₹₹₹₹', 'International', 'Canadian', 'Vegetar...</td>\n",
              "      <td>1115 Alberni St 3rd Floor of Shangri-La Hotel,...</td>\n",
              "      <td>+1 604-695-1115</td>\n",
              "    </tr>\n",
              "    <tr>\n",
              "      <th>1</th>\n",
              "      <td>Vancouver</td>\n",
              "      <td>Restaurant</td>\n",
              "      <td>Absinthe Bistro</td>\n",
              "      <td>4.5</td>\n",
              "      <td>426</td>\n",
              "      <td>{'Food': 4.5, 'Service': 4.5, 'Value': 4.5, 'A...</td>\n",
              "      <td>[{'days': 'Wed - Sun', 'times': ['5:00 PM - 9:...</td>\n",
              "      <td>49.275900</td>\n",
              "      <td>-123.069496</td>\n",
              "      <td>['All reviews ', 'scallops ', 'gazpacho ', 'cr...</td>\n",
              "      <td>Absinthe Bistro offers modern and classic fren...</td>\n",
              "      <td>$19 - $31</td>\n",
              "      <td>Gluten Free Options</td>\n",
              "      <td>Dinner</td>\n",
              "      <td>French, European</td>\n",
              "      <td>Gift Cards Available, Reservations, Outdoor Se...</td>\n",
              "      <td>http://www.bistroabsinthe.com</td>\n",
              "      <td>2.0</td>\n",
              "      <td>['$$ - $$$', 'French', 'European', 'Gluten Fre...</td>\n",
              "      <td>952 Commercial Dr, Vancouver, British Columbia...</td>\n",
              "      <td>+1 604-566-9053</td>\n",
              "    </tr>\n",
              "    <tr>\n",
              "      <th>2</th>\n",
              "      <td>Vancouver</td>\n",
              "      <td>Restaurant</td>\n",
              "      <td>Glowbal</td>\n",
              "      <td>4.5</td>\n",
              "      <td>1,720</td>\n",
              "      <td>{'Food': 4.5, 'Service': 4.5, 'Value': 4.0}</td>\n",
              "      <td>[{'days': 'Mon - Fri', 'times': ['11:30 AM - 1...</td>\n",
              "      <td>49.281610</td>\n",
              "      <td>-123.117040</td>\n",
              "      <td>['All reviews ', 'brunch ', 'steak ', 'calamar...</td>\n",
              "      <td>A Vancouver institution for the last 15 years,...</td>\n",
              "      <td>NaN</td>\n",
              "      <td>Vegetarian Friendly, Vegan Options, Gluten Fre...</td>\n",
              "      <td>Lunch, Dinner, Brunch, After-hours, Drinks</td>\n",
              "      <td>American, Bar, Seafood, Grill</td>\n",
              "      <td>Reservations, Outdoor Seating, Seating, Parkin...</td>\n",
              "      <td>http://www.glowbalgroup.com/glowbal/index.html</td>\n",
              "      <td>3.0</td>\n",
              "      <td>['$$ - $$$', 'American', 'Bar', 'Seafood']</td>\n",
              "      <td>590 Georgia St W, Vancouver, British Columbia ...</td>\n",
              "      <td>+1 604-602-0835</td>\n",
              "    </tr>\n",
              "    <tr>\n",
              "      <th>3</th>\n",
              "      <td>Vancouver</td>\n",
              "      <td>Restaurant</td>\n",
              "      <td>Salmon n' Bannock Bistro</td>\n",
              "      <td>4.5</td>\n",
              "      <td>751</td>\n",
              "      <td>{'Food': 4.5, 'Service': 4.5, 'Value': 4.5, 'A...</td>\n",
              "      <td>[{'days': 'Mon - Sat', 'times': ['5:00 PM - 9:...</td>\n",
              "      <td>49.263462</td>\n",
              "      <td>-123.129814</td>\n",
              "      <td>['All reviews ', 'bannock ', 'bison ', 'salmon...</td>\n",
              "      <td>We are Vancouver's only Indigenous restaurant....</td>\n",
              "      <td>US$ 9 - US$ 34</td>\n",
              "      <td>Vegetarian Friendly, Vegan Options, Gluten Fre...</td>\n",
              "      <td>Lunch, Dinner</td>\n",
              "      <td>Canadian, Native American</td>\n",
              "      <td>Wheelchair Accessible, Serves Alcohol, Takeout...</td>\n",
              "      <td>http://www.salmonandbannock.net</td>\n",
              "      <td>4.0</td>\n",
              "      <td>['$$ - $$$', 'Canadian', 'Native American', 'V...</td>\n",
              "      <td>7-1128 Broadway W, Vancouver, British Columbia...</td>\n",
              "      <td>+1 604-568-8971</td>\n",
              "    </tr>\n",
              "    <tr>\n",
              "      <th>4</th>\n",
              "      <td>Vancouver</td>\n",
              "      <td>Restaurant</td>\n",
              "      <td>Blue Water Cafe</td>\n",
              "      <td>4.5</td>\n",
              "      <td>3,036</td>\n",
              "      <td>{'Food': 4.5, 'Service': 4.5, 'Value': 4.0, 'A...</td>\n",
              "      <td>[{'days': 'Sun - Sat', 'times': ['4:30 PM - 10...</td>\n",
              "      <td>49.276203</td>\n",
              "      <td>-123.121100</td>\n",
              "      <td>['All reviews ', 'sablefish ', 'seafood ', 'sc...</td>\n",
              "      <td>NaN</td>\n",
              "      <td>NaN</td>\n",
              "      <td>NaN</td>\n",
              "      <td>NaN</td>\n",
              "      <td>NaN</td>\n",
              "      <td>NaN</td>\n",
              "      <td>http://www.bluewatercafe.net</td>\n",
              "      <td>5.0</td>\n",
              "      <td>['₹₹₹₹', 'Seafood', 'Sushi', 'Canadian']</td>\n",
              "      <td>1095 Hamilton St, Vancouver, British Columbia ...</td>\n",
              "      <td>+1 604-688-8078</td>\n",
              "    </tr>\n",
              "  </tbody>\n",
              "</table>\n",
              "</div>"
            ],
            "text/plain": [
              "   City_Name  ...       Contact_No\n",
              "0  Vancouver  ...  +1 604-695-1115\n",
              "1  Vancouver  ...  +1 604-566-9053\n",
              "2  Vancouver  ...  +1 604-602-0835\n",
              "3  Vancouver  ...  +1 604-568-8971\n",
              "4  Vancouver  ...  +1 604-688-8078\n",
              "\n",
              "[5 rows x 21 columns]"
            ]
          },
          "metadata": {
            "tags": []
          },
          "execution_count": 4
        }
      ]
    },
    {
      "cell_type": "code",
      "metadata": {
        "id": "6VDkgeVlEbbo"
      },
      "source": [
        "df.tail(2)"
      ],
      "execution_count": null,
      "outputs": []
    },
    {
      "cell_type": "code",
      "metadata": {
        "id": "7IPwEsuMaL6d",
        "outputId": "a2cd9cc1-611f-47e6-b1c8-64cbcd2dd075",
        "colab": {
          "base_uri": "https://localhost:8080/",
          "height": 391
        }
      },
      "source": [
        "df.isnull().sum()"
      ],
      "execution_count": 6,
      "outputs": [
        {
          "output_type": "execute_result",
          "data": {
            "text/plain": [
              "City_Name                0\n",
              "Establishment_Type       0\n",
              "Name                     1\n",
              "Rating                 407\n",
              "No_of_Reviews          407\n",
              "Other_Ratings            0\n",
              "Timings               1765\n",
              "Latitude                 8\n",
              "Longitude                8\n",
              "Tags                     0\n",
              "Description           2952\n",
              "Price Range           3009\n",
              "Special Diets         2822\n",
              "Meals                 1458\n",
              "Cuisines               712\n",
              "Features              1861\n",
              "Website                659\n",
              "Rank                   414\n",
              "Range_n_Cuisine          0\n",
              "Address                  0\n",
              "Contact_No               0\n",
              "dtype: int64"
            ]
          },
          "metadata": {
            "tags": []
          },
          "execution_count": 6
        }
      ]
    },
    {
      "cell_type": "code",
      "metadata": {
        "id": "8CWzUMQEEtdP",
        "outputId": "055165df-15b0-45a5-9a8b-d9e51a99a1c1",
        "colab": {
          "base_uri": "https://localhost:8080/",
          "height": 34
        }
      },
      "source": [
        "df.shape"
      ],
      "execution_count": 7,
      "outputs": [
        {
          "output_type": "execute_result",
          "data": {
            "text/plain": [
              "(3766, 21)"
            ]
          },
          "metadata": {
            "tags": []
          },
          "execution_count": 7
        }
      ]
    },
    {
      "cell_type": "markdown",
      "metadata": {
        "id": "lx84PHmTZ2l1"
      },
      "source": [
        "##Removing rows where Name column is null"
      ]
    },
    {
      "cell_type": "code",
      "metadata": {
        "id": "ErgbC7VWEhmZ"
      },
      "source": [
        "df.dropna(axis = 0, how = 'any', subset = ['Name'] , inplace=True)\n",
        "#df.columns"
      ],
      "execution_count": 12,
      "outputs": []
    },
    {
      "cell_type": "code",
      "metadata": {
        "id": "w1baCG2qJmmp",
        "outputId": "d62d3615-0dd0-4ddf-d12a-59819ea0bec9",
        "colab": {
          "base_uri": "https://localhost:8080/",
          "height": 34
        }
      },
      "source": [
        "df.shape"
      ],
      "execution_count": 11,
      "outputs": [
        {
          "output_type": "execute_result",
          "data": {
            "text/plain": [
              "(3765, 21)"
            ]
          },
          "metadata": {
            "tags": []
          },
          "execution_count": 11
        }
      ]
    },
    {
      "cell_type": "markdown",
      "metadata": {
        "id": "vxzhUI88adlg"
      },
      "source": [
        "## Ratings Column Handling"
      ]
    },
    {
      "cell_type": "code",
      "metadata": {
        "id": "rfHrICKNadHJ",
        "outputId": "dfe8ad55-3267-46b7-c73a-4d68285d4c71",
        "colab": {
          "base_uri": "https://localhost:8080/",
          "height": 34
        }
      },
      "source": [
        "df['Rating'].isnull().sum()"
      ],
      "execution_count": 13,
      "outputs": [
        {
          "output_type": "execute_result",
          "data": {
            "text/plain": [
              "407"
            ]
          },
          "metadata": {
            "tags": []
          },
          "execution_count": 13
        }
      ]
    },
    {
      "cell_type": "markdown",
      "metadata": {
        "id": "UFw_7JcSa4JE"
      },
      "source": [
        "### We have multiple options to deal with the missing values\n",
        "\n",
        "\n",
        "*   filling with values like mean, mode or median\n",
        "*   forward flling method if data is in particular order\n",
        "*   Or filling with zero like the case is here when it comes to rating\n"
      ]
    },
    {
      "cell_type": "code",
      "metadata": {
        "id": "rnes3s75a1nV"
      },
      "source": [
        "df['Rating'].fillna(value = 0, inplace=True)"
      ],
      "execution_count": 14,
      "outputs": []
    },
    {
      "cell_type": "code",
      "metadata": {
        "id": "Q_p7xDfupF3Z",
        "outputId": "54821052-efab-495e-ed2a-cf4c20ee6f23",
        "colab": {
          "base_uri": "https://localhost:8080/",
          "height": 34
        }
      },
      "source": [
        "df['Rating'].isnull().sum()"
      ],
      "execution_count": 15,
      "outputs": [
        {
          "output_type": "execute_result",
          "data": {
            "text/plain": [
              "0"
            ]
          },
          "metadata": {
            "tags": []
          },
          "execution_count": 15
        }
      ]
    },
    {
      "cell_type": "code",
      "metadata": {
        "id": "ZqNBljpTpOg6",
        "outputId": "d72dc170-6d54-4585-9ecd-cc752c8b1ed0",
        "colab": {
          "base_uri": "https://localhost:8080/",
          "height": 34
        }
      },
      "source": [
        "df['No_of_Reviews'].isnull().sum()\n",
        "#df.columns\n",
        "type(df['No_of_Reviews'])"
      ],
      "execution_count": 16,
      "outputs": [
        {
          "output_type": "execute_result",
          "data": {
            "text/plain": [
              "pandas.core.series.Series"
            ]
          },
          "metadata": {
            "tags": []
          },
          "execution_count": 16
        }
      ]
    },
    {
      "cell_type": "code",
      "metadata": {
        "id": "o2wzt27FqrQl"
      },
      "source": [
        "df['No_of_Reviews'].fillna(value = 0, inplace=True)"
      ],
      "execution_count": 17,
      "outputs": []
    },
    {
      "cell_type": "code",
      "metadata": {
        "id": "KIMoEVlFridk",
        "outputId": "ef15d60c-05a3-4d3d-cd35-fc00b107bf97",
        "colab": {
          "base_uri": "https://localhost:8080/",
          "height": 34
        }
      },
      "source": [
        "df['No_of_Reviews'].isnull().sum()"
      ],
      "execution_count": 18,
      "outputs": [
        {
          "output_type": "execute_result",
          "data": {
            "text/plain": [
              "0"
            ]
          },
          "metadata": {
            "tags": []
          },
          "execution_count": 18
        }
      ]
    },
    {
      "cell_type": "code",
      "metadata": {
        "id": "fnMTsCD-wg8L"
      },
      "source": [
        "df['Latitude'].fillna(value = 0, inplace=True)"
      ],
      "execution_count": 22,
      "outputs": []
    },
    {
      "cell_type": "code",
      "metadata": {
        "id": "sUDM7l3CxKCS",
        "outputId": "edafd4f0-2aaa-44bf-89e1-cb8a99c73a6f",
        "colab": {
          "base_uri": "https://localhost:8080/",
          "height": 34
        }
      },
      "source": [
        "df['Latitude'].isnull().sum()"
      ],
      "execution_count": 23,
      "outputs": [
        {
          "output_type": "execute_result",
          "data": {
            "text/plain": [
              "0"
            ]
          },
          "metadata": {
            "tags": []
          },
          "execution_count": 23
        }
      ]
    },
    {
      "cell_type": "code",
      "metadata": {
        "id": "nDynuWbXxPBq"
      },
      "source": [
        "df['Longitude'].fillna(value = 0, inplace=True)"
      ],
      "execution_count": 24,
      "outputs": []
    },
    {
      "cell_type": "code",
      "metadata": {
        "id": "EMry0RdrxVCn",
        "outputId": "b5dd35ad-7ee7-4012-b9cf-40a6b84d8915",
        "colab": {
          "base_uri": "https://localhost:8080/",
          "height": 34
        }
      },
      "source": [
        "df['Longitude'].isnull().sum()"
      ],
      "execution_count": 25,
      "outputs": [
        {
          "output_type": "execute_result",
          "data": {
            "text/plain": [
              "0"
            ]
          },
          "metadata": {
            "tags": []
          },
          "execution_count": 25
        }
      ]
    },
    {
      "cell_type": "code",
      "metadata": {
        "id": "JHzZezyLrobf",
        "outputId": "453fc2d5-8f6f-40ea-98ae-e1ba71eff8dd",
        "colab": {
          "base_uri": "https://localhost:8080/",
          "height": 221
        }
      },
      "source": [
        "df['Timings'].isnull()"
      ],
      "execution_count": 19,
      "outputs": [
        {
          "output_type": "execute_result",
          "data": {
            "text/plain": [
              "0        True\n",
              "1       False\n",
              "2       False\n",
              "3       False\n",
              "4       False\n",
              "        ...  \n",
              "3761    False\n",
              "3762    False\n",
              "3763     True\n",
              "3764    False\n",
              "3765    False\n",
              "Name: Timings, Length: 3765, dtype: bool"
            ]
          },
          "metadata": {
            "tags": []
          },
          "execution_count": 19
        }
      ]
    },
    {
      "cell_type": "code",
      "metadata": {
        "id": "pEwLlmz4srWK",
        "outputId": "fe2e14b2-8194-4b1b-bd9b-4a7e4bed46ea",
        "colab": {
          "base_uri": "https://localhost:8080/",
          "height": 34
        }
      },
      "source": [
        "type(df['Timings'])"
      ],
      "execution_count": 20,
      "outputs": [
        {
          "output_type": "execute_result",
          "data": {
            "text/plain": [
              "pandas.core.series.Series"
            ]
          },
          "metadata": {
            "tags": []
          },
          "execution_count": 20
        }
      ]
    },
    {
      "cell_type": "code",
      "metadata": {
        "id": "soWZ7jLp4lTl",
        "outputId": "65ec4eb2-ebfb-457c-d181-f029b11ea2b6",
        "colab": {
          "base_uri": "https://localhost:8080/",
          "height": 34
        }
      },
      "source": [
        "print(df['Other_Ratings'].values[0])"
      ],
      "execution_count": 41,
      "outputs": [
        {
          "output_type": "stream",
          "text": [
            "{'Food': 4.5, 'Service': 4.5, 'Value': 4.0, 'Atmosphere': 4.0}\n"
          ],
          "name": "stdout"
        }
      ]
    },
    {
      "cell_type": "code",
      "metadata": {
        "id": "YU6uZDCAvQxQ",
        "outputId": "c62555c7-f5a7-43b2-ee8b-07e2bd5309f4",
        "colab": {
          "base_uri": "https://localhost:8080/",
          "height": 561
        }
      },
      "source": [
        "import ast\n",
        "dictionary = []\n",
        "for i in range(len(df['Other_Ratings'])):\n",
        "  dictionary.append(ast.literal_eval(df['Other_Ratings'][i]))\n",
        "df['Other_Ratings'] = dictionary\n",
        "\n"
      ],
      "execution_count": 46,
      "outputs": [
        {
          "output_type": "error",
          "ename": "KeyError",
          "evalue": "ignored",
          "traceback": [
            "\u001b[0;31m---------------------------------------------------------------------------\u001b[0m",
            "\u001b[0;31mKeyError\u001b[0m                                  Traceback (most recent call last)",
            "\u001b[0;32m/usr/local/lib/python3.6/dist-packages/pandas/core/indexes/base.py\u001b[0m in \u001b[0;36mget_loc\u001b[0;34m(self, key, method, tolerance)\u001b[0m\n\u001b[1;32m   2890\u001b[0m             \u001b[0;32mtry\u001b[0m\u001b[0;34m:\u001b[0m\u001b[0;34m\u001b[0m\u001b[0;34m\u001b[0m\u001b[0m\n\u001b[0;32m-> 2891\u001b[0;31m                 \u001b[0;32mreturn\u001b[0m \u001b[0mself\u001b[0m\u001b[0;34m.\u001b[0m\u001b[0m_engine\u001b[0m\u001b[0;34m.\u001b[0m\u001b[0mget_loc\u001b[0m\u001b[0;34m(\u001b[0m\u001b[0mcasted_key\u001b[0m\u001b[0;34m)\u001b[0m\u001b[0;34m\u001b[0m\u001b[0;34m\u001b[0m\u001b[0m\n\u001b[0m\u001b[1;32m   2892\u001b[0m             \u001b[0;32mexcept\u001b[0m \u001b[0mKeyError\u001b[0m \u001b[0;32mas\u001b[0m \u001b[0merr\u001b[0m\u001b[0;34m:\u001b[0m\u001b[0;34m\u001b[0m\u001b[0;34m\u001b[0m\u001b[0m\n",
            "\u001b[0;32mpandas/_libs/index.pyx\u001b[0m in \u001b[0;36mpandas._libs.index.IndexEngine.get_loc\u001b[0;34m()\u001b[0m\n",
            "\u001b[0;32mpandas/_libs/index.pyx\u001b[0m in \u001b[0;36mpandas._libs.index.IndexEngine.get_loc\u001b[0;34m()\u001b[0m\n",
            "\u001b[0;32mpandas/_libs/hashtable_class_helper.pxi\u001b[0m in \u001b[0;36mpandas._libs.hashtable.Int64HashTable.get_item\u001b[0;34m()\u001b[0m\n",
            "\u001b[0;32mpandas/_libs/hashtable_class_helper.pxi\u001b[0m in \u001b[0;36mpandas._libs.hashtable.Int64HashTable.get_item\u001b[0;34m()\u001b[0m\n",
            "\u001b[0;31mKeyError\u001b[0m: 846",
            "\nThe above exception was the direct cause of the following exception:\n",
            "\u001b[0;31mKeyError\u001b[0m                                  Traceback (most recent call last)",
            "\u001b[0;32m<ipython-input-46-6a4787d08193>\u001b[0m in \u001b[0;36m<module>\u001b[0;34m()\u001b[0m\n\u001b[1;32m      2\u001b[0m \u001b[0mdictionary\u001b[0m \u001b[0;34m=\u001b[0m \u001b[0;34m[\u001b[0m\u001b[0;34m]\u001b[0m\u001b[0;34m\u001b[0m\u001b[0;34m\u001b[0m\u001b[0m\n\u001b[1;32m      3\u001b[0m \u001b[0;32mfor\u001b[0m \u001b[0mi\u001b[0m \u001b[0;32min\u001b[0m \u001b[0mrange\u001b[0m\u001b[0;34m(\u001b[0m\u001b[0mlen\u001b[0m\u001b[0;34m(\u001b[0m\u001b[0mdf\u001b[0m\u001b[0;34m[\u001b[0m\u001b[0;34m'Other_Ratings'\u001b[0m\u001b[0;34m]\u001b[0m\u001b[0;34m)\u001b[0m\u001b[0;34m)\u001b[0m\u001b[0;34m:\u001b[0m\u001b[0;34m\u001b[0m\u001b[0;34m\u001b[0m\u001b[0m\n\u001b[0;32m----> 4\u001b[0;31m   \u001b[0mdictionary\u001b[0m\u001b[0;34m.\u001b[0m\u001b[0mappend\u001b[0m\u001b[0;34m(\u001b[0m\u001b[0mast\u001b[0m\u001b[0;34m.\u001b[0m\u001b[0mliteral_eval\u001b[0m\u001b[0;34m(\u001b[0m\u001b[0mdf\u001b[0m\u001b[0;34m[\u001b[0m\u001b[0;34m'Other_Ratings'\u001b[0m\u001b[0;34m]\u001b[0m\u001b[0;34m[\u001b[0m\u001b[0mi\u001b[0m\u001b[0;34m]\u001b[0m\u001b[0;34m)\u001b[0m\u001b[0;34m)\u001b[0m\u001b[0;34m\u001b[0m\u001b[0;34m\u001b[0m\u001b[0m\n\u001b[0m\u001b[1;32m      5\u001b[0m \u001b[0mdf\u001b[0m\u001b[0;34m[\u001b[0m\u001b[0;34m'Other_Ratings'\u001b[0m\u001b[0;34m]\u001b[0m \u001b[0;34m=\u001b[0m \u001b[0mdictionary\u001b[0m\u001b[0;34m\u001b[0m\u001b[0;34m\u001b[0m\u001b[0m\n\u001b[1;32m      6\u001b[0m \u001b[0;34m\u001b[0m\u001b[0m\n",
            "\u001b[0;32m/usr/local/lib/python3.6/dist-packages/pandas/core/series.py\u001b[0m in \u001b[0;36m__getitem__\u001b[0;34m(self, key)\u001b[0m\n\u001b[1;32m    880\u001b[0m \u001b[0;34m\u001b[0m\u001b[0m\n\u001b[1;32m    881\u001b[0m         \u001b[0;32melif\u001b[0m \u001b[0mkey_is_scalar\u001b[0m\u001b[0;34m:\u001b[0m\u001b[0;34m\u001b[0m\u001b[0;34m\u001b[0m\u001b[0m\n\u001b[0;32m--> 882\u001b[0;31m             \u001b[0;32mreturn\u001b[0m \u001b[0mself\u001b[0m\u001b[0;34m.\u001b[0m\u001b[0m_get_value\u001b[0m\u001b[0;34m(\u001b[0m\u001b[0mkey\u001b[0m\u001b[0;34m)\u001b[0m\u001b[0;34m\u001b[0m\u001b[0;34m\u001b[0m\u001b[0m\n\u001b[0m\u001b[1;32m    883\u001b[0m \u001b[0;34m\u001b[0m\u001b[0m\n\u001b[1;32m    884\u001b[0m         if (\n",
            "\u001b[0;32m/usr/local/lib/python3.6/dist-packages/pandas/core/series.py\u001b[0m in \u001b[0;36m_get_value\u001b[0;34m(self, label, takeable)\u001b[0m\n\u001b[1;32m    989\u001b[0m \u001b[0;34m\u001b[0m\u001b[0m\n\u001b[1;32m    990\u001b[0m         \u001b[0;31m# Similar to Index.get_value, but we do not fall back to positional\u001b[0m\u001b[0;34m\u001b[0m\u001b[0;34m\u001b[0m\u001b[0;34m\u001b[0m\u001b[0m\n\u001b[0;32m--> 991\u001b[0;31m         \u001b[0mloc\u001b[0m \u001b[0;34m=\u001b[0m \u001b[0mself\u001b[0m\u001b[0;34m.\u001b[0m\u001b[0mindex\u001b[0m\u001b[0;34m.\u001b[0m\u001b[0mget_loc\u001b[0m\u001b[0;34m(\u001b[0m\u001b[0mlabel\u001b[0m\u001b[0;34m)\u001b[0m\u001b[0;34m\u001b[0m\u001b[0;34m\u001b[0m\u001b[0m\n\u001b[0m\u001b[1;32m    992\u001b[0m         \u001b[0;32mreturn\u001b[0m \u001b[0mself\u001b[0m\u001b[0;34m.\u001b[0m\u001b[0mindex\u001b[0m\u001b[0;34m.\u001b[0m\u001b[0m_get_values_for_loc\u001b[0m\u001b[0;34m(\u001b[0m\u001b[0mself\u001b[0m\u001b[0;34m,\u001b[0m \u001b[0mloc\u001b[0m\u001b[0;34m,\u001b[0m \u001b[0mlabel\u001b[0m\u001b[0;34m)\u001b[0m\u001b[0;34m\u001b[0m\u001b[0;34m\u001b[0m\u001b[0m\n\u001b[1;32m    993\u001b[0m \u001b[0;34m\u001b[0m\u001b[0m\n",
            "\u001b[0;32m/usr/local/lib/python3.6/dist-packages/pandas/core/indexes/base.py\u001b[0m in \u001b[0;36mget_loc\u001b[0;34m(self, key, method, tolerance)\u001b[0m\n\u001b[1;32m   2891\u001b[0m                 \u001b[0;32mreturn\u001b[0m \u001b[0mself\u001b[0m\u001b[0;34m.\u001b[0m\u001b[0m_engine\u001b[0m\u001b[0;34m.\u001b[0m\u001b[0mget_loc\u001b[0m\u001b[0;34m(\u001b[0m\u001b[0mcasted_key\u001b[0m\u001b[0;34m)\u001b[0m\u001b[0;34m\u001b[0m\u001b[0;34m\u001b[0m\u001b[0m\n\u001b[1;32m   2892\u001b[0m             \u001b[0;32mexcept\u001b[0m \u001b[0mKeyError\u001b[0m \u001b[0;32mas\u001b[0m \u001b[0merr\u001b[0m\u001b[0;34m:\u001b[0m\u001b[0;34m\u001b[0m\u001b[0;34m\u001b[0m\u001b[0m\n\u001b[0;32m-> 2893\u001b[0;31m                 \u001b[0;32mraise\u001b[0m \u001b[0mKeyError\u001b[0m\u001b[0;34m(\u001b[0m\u001b[0mkey\u001b[0m\u001b[0;34m)\u001b[0m \u001b[0;32mfrom\u001b[0m \u001b[0merr\u001b[0m\u001b[0;34m\u001b[0m\u001b[0;34m\u001b[0m\u001b[0m\n\u001b[0m\u001b[1;32m   2894\u001b[0m \u001b[0;34m\u001b[0m\u001b[0m\n\u001b[1;32m   2895\u001b[0m         \u001b[0;32mif\u001b[0m \u001b[0mtolerance\u001b[0m \u001b[0;32mis\u001b[0m \u001b[0;32mnot\u001b[0m \u001b[0;32mNone\u001b[0m\u001b[0;34m:\u001b[0m\u001b[0;34m\u001b[0m\u001b[0;34m\u001b[0m\u001b[0m\n",
            "\u001b[0;31mKeyError\u001b[0m: 846"
          ]
        }
      ]
    },
    {
      "cell_type": "markdown",
      "metadata": {
        "id": "JcZe9Afsy7FE"
      },
      "source": [
        "### Splitting the 'Other_Ratings' Column into DaysOpen and OpenTime columns\n"
      ]
    }
  ]
}